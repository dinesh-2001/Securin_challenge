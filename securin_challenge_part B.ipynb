{
 "cells": [
  {
   "cell_type": "markdown",
   "id": "2d4d2825",
   "metadata": {},
   "source": [
    "# This function calculates the probability distribution of the sum of two dice rolls given the possible outcomes of each die."
   ]
  },
  {
   "cell_type": "code",
   "execution_count": 8,
   "id": "a33cf4ed",
   "metadata": {},
   "outputs": [],
   "source": [
    "def Probability_distribution(die1, die2):\n",
    "    lis = []\n",
    "    dict={}\n",
    "    for a in die1: \n",
    "        for b in die2:\n",
    "            lis.append(a + b)\n",
    "    for i in range(2,13):\n",
    "        dict[i] = lis.count(i)\n",
    "    return dict"
   ]
  },
  {
   "cell_type": "markdown",
   "id": "2a4e8a70",
   "metadata": {},
   "source": [
    "\n",
    "# This function generates pairs of dice rolls for a six-sided die A, with the values 2, 3, or 4 for each die in the pair, while keeping the other die values constant at [1, 2, 3, 4]."
   ]
  },
  {
   "cell_type": "code",
   "execution_count": 9,
   "id": "514b3e1e",
   "metadata": {},
   "outputs": [],
   "source": [
    "def generate_dice_pairs_dieA():\n",
    "    for i in range(2,4):\n",
    "        for j in range(2, 4):\n",
    "            yield [1, 2, 3, 4, i, j]\n"
   ]
  },
  {
   "cell_type": "markdown",
   "id": "d9be18ec",
   "metadata": {},
   "source": [
    "# This function generates pairs of dice rolls for a six-sided die B, with increasing values from 2 to 7 for each die in the pair, while keeping one die constant at 8 and 1. "
   ]
  },
  {
   "cell_type": "code",
   "execution_count": 10,
   "id": "097831c3",
   "metadata": {},
   "outputs": [],
   "source": [
    "def generate_dice_pairs_dieB():\n",
    "    for i in range(2,8):\n",
    "        for j in range(i, 8):\n",
    "            for k in range(j, 8):\n",
    "                for l in range(k, 8):\n",
    "                    yield [1, i, j, k, l, 8]"
   ]
  },
  {
   "cell_type": "markdown",
   "id": "9c73d929",
   "metadata": {},
   "source": [
    "# It matches dice pairs with equal probability distribution to originals."
   ]
  },
  {
   "cell_type": "code",
   "execution_count": 11,
   "id": "83ca8429",
   "metadata": {},
   "outputs": [],
   "source": [
    "def undoom_dice(Die_A, Die_B):\n",
    "    org_Probability_distribution = Probability_distribution(Die_A, Die_B)\n",
    "    for new_die in generate_dice_pairs_dieA():\n",
    "        for second_die in generate_dice_pairs_dieB():\n",
    "            if Probability_distribution(new_die, second_die) == org_Probability_distribution:\n",
    "                return new_die, second_die"
   ]
  },
  {
   "cell_type": "markdown",
   "id": "9651d732",
   "metadata": {},
   "source": [
    "# Main function"
   ]
  },
  {
   "cell_type": "code",
   "execution_count": 12,
   "id": "dfc564ae",
   "metadata": {},
   "outputs": [
    {
     "name": "stdout",
     "output_type": "stream",
     "text": [
      "N_die_A:[1, 2, 2, 3, 3, 4] \n",
      "N_die_B:[1, 3, 4, 5, 6, 8]  \n"
     ]
    }
   ],
   "source": [
    "if __name__ == \"__main__\":\n",
    "    N_Die_A, N_Die_B = undoom_dice([1,2,3,4,5,6], [1,2,3,4,5,6])\n",
    "    print(\"N_die_A:{0} \\nN_die_B:{1}  \".format(sorted(N_Die_A), sorted(N_Die_B)))"
   ]
  },
  {
   "cell_type": "code",
   "execution_count": null,
   "id": "1f827091",
   "metadata": {},
   "outputs": [],
   "source": []
  }
 ],
 "metadata": {
  "kernelspec": {
   "display_name": "Python 3 (ipykernel)",
   "language": "python",
   "name": "python3"
  },
  "language_info": {
   "codemirror_mode": {
    "name": "ipython",
    "version": 3
   },
   "file_extension": ".py",
   "mimetype": "text/x-python",
   "name": "python",
   "nbconvert_exporter": "python",
   "pygments_lexer": "ipython3",
   "version": "3.9.13"
  }
 },
 "nbformat": 4,
 "nbformat_minor": 5
}
