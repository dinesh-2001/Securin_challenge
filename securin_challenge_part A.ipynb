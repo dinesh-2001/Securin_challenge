{
 "cells": [
  {
   "cell_type": "markdown",
   "id": "2c2a11fd",
   "metadata": {},
   "source": [
    "# 1. How many total combinations are possible? Show the math along with the code!"
   ]
  },
  {
   "cell_type": "code",
   "execution_count": 6,
   "id": "42e84870",
   "metadata": {},
   "outputs": [
    {
     "name": "stdout",
     "output_type": "stream",
     "text": [
      "total combinations are possible : 36\n"
     ]
    }
   ],
   "source": [
    "die_A =[1,2,3,4,5,6]\n",
    "die_b =[1,2,3,4,5,6]\n",
    "total_combination = len(die_A)*len(die_b)\n",
    "print(\"total combinations are possible :\",total_combination)"
   ]
  },
  {
   "cell_type": "markdown",
   "id": "62d835f8",
   "metadata": {},
   "source": [
    "# 2.Calculate and display the distribution of all possible combinations that can be obtained when rolling both Die A and Die B together. Show the math along with the code!"
   ]
  },
  {
   "cell_type": "code",
   "execution_count": 7,
   "id": "bb21f357",
   "metadata": {},
   "outputs": [
    {
     "name": "stdout",
     "output_type": "stream",
     "text": [
      "[[(1, 1), (1, 2), (1, 3), (1, 4), (1, 5), (1, 6)], [(2, 1), (2, 2), (2, 3), (2, 4), (2, 5), (2, 6)], [(3, 1), (3, 2), (3, 3), (3, 4), (3, 5), (3, 6)], [(4, 1), (4, 2), (4, 3), (4, 4), (4, 5), (4, 6)], [(5, 1), (5, 2), (5, 3), (5, 4), (5, 5), (5, 6)], [(6, 1), (6, 2), (6, 3), (6, 4), (6, 5), (6, 6)]]\n"
     ]
    }
   ],
   "source": [
    "distribution = []\n",
    "for i in range(1, 7):\n",
    "    row = []\n",
    "    for j in range(1, 7):\n",
    "        row.append((i, j))\n",
    "    distribution.append(row)\n",
    "print(distribution)"
   ]
  },
  {
   "cell_type": "markdown",
   "id": "0ee16a3b",
   "metadata": {},
   "source": [
    "# 3. Calculate the Probability of all Possible Sums occurring among the number of combinations from (2)."
   ]
  },
  {
   "cell_type": "code",
   "execution_count": 14,
   "id": "0092cdf1",
   "metadata": {},
   "outputs": [
    {
     "name": "stdout",
     "output_type": "stream",
     "text": [
      "{2: 0.027777777777777776, 3: 0.05555555555555555, 4: 0.08333333333333333, 5: 0.1111111111111111, 6: 0.1388888888888889, 7: 0.16666666666666666, 8: 0.1388888888888889, 9: 0.1111111111111111, 10: 0.08333333333333333, 11: 0.05555555555555555, 12: 0.027777777777777776}\n"
     ]
    }
   ],
   "source": [
    "die1=[1,2,3,4,5,6]\n",
    "die2=[1,2,3,4,5,6]\n",
    "lis = []\n",
    "dict={}\n",
    "for a in die1: \n",
    "    for b in die2:\n",
    "        lis.append(a + b)\n",
    "for i in range(2,13):\n",
    "    dict[i] = lis.count(i)/36\n",
    "print(dict)"
   ]
  },
  {
   "cell_type": "code",
   "execution_count": null,
   "id": "bd2e9421",
   "metadata": {},
   "outputs": [],
   "source": []
  }
 ],
 "metadata": {
  "kernelspec": {
   "display_name": "Python 3 (ipykernel)",
   "language": "python",
   "name": "python3"
  },
  "language_info": {
   "codemirror_mode": {
    "name": "ipython",
    "version": 3
   },
   "file_extension": ".py",
   "mimetype": "text/x-python",
   "name": "python",
   "nbconvert_exporter": "python",
   "pygments_lexer": "ipython3",
   "version": "3.9.13"
  }
 },
 "nbformat": 4,
 "nbformat_minor": 5
}
